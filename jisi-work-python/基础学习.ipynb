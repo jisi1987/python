{
 "cells": [
  {
   "cell_type": "markdown",
   "metadata": {},
   "source": [
    "# Python基础学习"
   ]
  },
  {
   "cell_type": "markdown",
   "metadata": {},
   "source": [
    "## jupyter各种快捷键"
   ]
  },
  {
   "cell_type": "markdown",
   "metadata": {},
   "source": [
    "nter : 转入编辑模式\n",
    "\n",
    "Shift-Enter : 运行本单元，选中下个单元\n",
    "\n",
    "Ctrl-Enter : 运行本单元\n",
    "\n",
    "Alt-Enter : 运行本单元，在其下插入新单元\n",
    "\n",
    "Y : 单元转入代码状态\n",
    "\n",
    "M :单元转入markdown状态\n",
    "\n",
    "R : 单元转入raw状态\n",
    "\n",
    "1 : 设定 1 级标题\n",
    "2 : 设定 2 级标题\n",
    "\n",
    "3 : 设定 3 级标题\n",
    "\n",
    "4 : 设定 4 级标题\n",
    "\n",
    "5 : 设定 5 级标题\n",
    "\n",
    "6 : 设定 6 级标题\n",
    "\n",
    "Up : 选中上方单元\n",
    "\n",
    "K : 选中上方单元\n",
    "\n",
    "Down : 选中下方单元\n",
    "\n",
    "J : 选中下方单元\n",
    "\n",
    "Shift-K : 扩大选中上方单元\n",
    "\n",
    "Shift-J : 扩大选中下方单元\n",
    "\n",
    "A : 在上方插入新单元\n",
    "\n",
    "B : 在下方插入新单元\n",
    "\n",
    "X : 剪切选中的单元\n",
    "\n",
    "C : 复制选中的单元\n",
    "\n",
    "Shift-V : 粘贴到上方单元\n",
    "\n",
    "V : 粘贴到下方单元\n",
    "\n",
    "Z : 恢复删除的最后一个单元\n",
    "\n",
    "D,D : 删除选中的单元\n",
    "\n",
    "Shift-M : 合并选中的单元\n",
    "\n",
    "Ctrl-S : 文件存盘\n",
    "\n",
    "S : 文件存盘\n",
    "\n",
    "L : 转换行号\n",
    "\n",
    "O : 转换输出\n",
    "\n",
    "Shift-O : 转换输出滚动\n",
    "\n",
    "Esc : 关闭页面\n",
    "\n",
    "Q : 关闭页面\n",
    "\n",
    "H : 显示快捷键帮助\n",
    "\n",
    "I,I : 中断Notebook内核\n",
    "\n",
    "0,0 : 重启Notebook内核\n",
    "\n",
    "Shift : 忽略\n",
    "\n",
    "Shift-Space : 向上滚动\n",
    "\n",
    "Space : 向下滚动\n",
    "\n",
    "编辑模式 ( Enter 键启动)\n",
    "\n",
    "Tab : 代码补全或缩进\n",
    "\n",
    "Shift-Tab : 提示\n",
    "\n",
    "Ctrl-A : 全选\n",
    "\n",
    "Ctrl-Z : 复原\n",
    "\n",
    "Ctrl-Shift-Z : 再做\n",
    "\n",
    "Ctrl-Y : 再做\n",
    "\n",
    "Ctrl-Home : 跳到单元开头\n",
    "\n",
    "Ctrl-Up : 跳到单元开头\n",
    "\n",
    "Ctrl-End : 跳到单元末尾\n",
    "\n",
    "Ctrl-Down : 跳到单元末尾\n",
    "\n",
    "Ctrl-Left : 跳到左边一个字首\n",
    "\n",
    "Ctrl-Right : 跳到右边一个字首\n",
    "\n",
    "Ctrl-Backspace : 删除前面一个字\n",
    "\n",
    "Ctrl-Delete : 删除后面一个字\n",
    "\n",
    "Esc : 进入命令模式\n",
    "\n",
    "Ctrl-M : 进入命令模式\n",
    "\n",
    "Shift-Enter : 运行本单元，选中下一单元\n",
    "\n",
    "Ctrl-Enter : 运行本单元\n",
    "\n",
    "Alt-Enter : 运行本单元，在下面插入一单元\n",
    "\n",
    "Ctrl-Shift-- : 分割单元\n",
    "\n",
    "Ctrl-Shift-Subtract : 分割单元\n",
    "\n",
    "Ctrl-S : 文件存盘\n",
    "\n",
    "Shift : 忽略\n",
    "\n",
    "Up : 光标上移或转入上一单元\n",
    "\n",
    "Down :光标下移或转入下一单元\n",
    "\n",
    "Ctrl-] : 缩进\n",
    "\n",
    "Ctrl-[ : 解除缩进\n"
   ]
  },
  {
   "cell_type": "markdown",
   "metadata": {},
   "source": [
    "## 开始学习"
   ]
  },
  {
   "cell_type": "markdown",
   "metadata": {},
   "source": [
    "Markdown单元格，接受html代码，可以添加图片、样式等\n",
    "\n",
    "<img src=\"www.baidu.com/s?wd=今日新鲜事&tn=SE_PclogoS_8whnvm25&sa=ire_dl_gh_logo&rsv_dl=igh_logo_pcs\" style=\"width:100px;height:100px;float:left\">"
   ]
  },
  {
   "cell_type": "markdown",
   "metadata": {},
   "source": [
    "Markdown单元格还支持LaTex语法，如：\n",
    "\n",
    "$$\\int_0^{+\\infty} x^2 dx$$"
   ]
  },
  {
   "cell_type": "markdown",
   "metadata": {},
   "source": [
    "$$\\int_0^{-\\infty}x^2 dx$$"
   ]
  },
  {
   "cell_type": "code",
   "execution_count": 5,
   "metadata": {},
   "outputs": [
    {
     "name": "stdout",
     "output_type": "stream",
     "text": [
      "0\n",
      "1\n",
      "2\n",
      "3\n",
      "4\n"
     ]
    }
   ],
   "source": [
    "for i in range(5):\n",
    "    print(i)"
   ]
  },
  {
   "cell_type": "code",
   "execution_count": 11,
   "metadata": {},
   "outputs": [],
   "source": [
    "%matplotlib inline"
   ]
  },
  {
   "cell_type": "code",
   "execution_count": 14,
   "metadata": {},
   "outputs": [
    {
     "data": {
      "text/plain": [
       "[<matplotlib.lines.Line2D at 0x8afa438>]"
      ]
     },
     "execution_count": 14,
     "metadata": {},
     "output_type": "execute_result"
    },
    {
     "data": {
      "image/png": "[encoded data removed]",
      "text/plain": [
       "<matplotlib.figure.Figure at 0x8a67cf8>"
      ]
     },
     "metadata": {},
     "output_type": "display_data"
    }
   ],
   "source": [
    "import matplotlib.pyplot as plt\n",
    "import numpy as np\n",
    "x=np.arange(20)\n",
    "y=x**2 #等同 y=x^2\n",
    "plt.plot(x,y)"
   ]
  },
  {
   "cell_type": "code",
   "execution_count": 1,
   "metadata": {},
   "outputs": [],
   "source": [
    "import re\n",
    "s='''\n",
    "When I an down and,oh,my soul,so weary;\n",
    "When troubles come and my heart burdened be;\n",
    "Then I am still and wait here in the silence,\n",
    "Until you come and sit awhile with me.\n",
    "'''\n",
    "words=re.split(\"[^a-zA-Z]+\",s)"
   ]
  },
  {
   "cell_type": "code",
   "execution_count": 2,
   "metadata": {},
   "outputs": [
    {
     "ename": "TypeError",
     "evalue": "list indices must be integers or slices, not str",
     "output_type": "error",
     "traceback": [
      "\u001b[1;31m---------------------------------------------------------------------------\u001b[0m",
      "\u001b[1;31mTypeError\u001b[0m                                 Traceback (most recent call last)",
      "\u001b[1;32m<ipython-input-2-b463d6dab8a5>\u001b[0m in \u001b[0;36m<module>\u001b[1;34m()\u001b[0m\n\u001b[0;32m      2\u001b[0m \u001b[1;32mfor\u001b[0m \u001b[0mword\u001b[0m \u001b[1;32min\u001b[0m \u001b[0mwords\u001b[0m\u001b[1;33m:\u001b[0m\u001b[1;33m\u001b[0m\u001b[0m\n\u001b[0;32m      3\u001b[0m     \u001b[1;32mif\u001b[0m \u001b[0mword\u001b[0m \u001b[1;32mnot\u001b[0m \u001b[1;32min\u001b[0m \u001b[0mword_counts\u001b[0m\u001b[1;33m:\u001b[0m\u001b[1;33m\u001b[0m\u001b[0m\n\u001b[1;32m----> 4\u001b[1;33m         \u001b[0mword_counts\u001b[0m\u001b[1;33m[\u001b[0m\u001b[0mword\u001b[0m\u001b[1;33m]\u001b[0m \u001b[1;33m=\u001b[0m \u001b[1;36m1\u001b[0m\u001b[1;33m\u001b[0m\u001b[0m\n\u001b[0m\u001b[0;32m      5\u001b[0m     \u001b[1;32melse\u001b[0m\u001b[1;33m:\u001b[0m\u001b[1;33m\u001b[0m\u001b[0m\n\u001b[0;32m      6\u001b[0m         \u001b[0mword_counts\u001b[0m\u001b[1;33m[\u001b[0m\u001b[0mword\u001b[0m\u001b[1;33m]\u001b[0m \u001b[1;33m+=\u001b[0m \u001b[1;36m1\u001b[0m\u001b[1;33m\u001b[0m\u001b[0m\n",
      "\u001b[1;31mTypeError\u001b[0m: list indices must be integers or slices, not str"
     ]
    }
   ],
   "source": [
    "word_counts = {}\n",
    "for word in words:\n",
    "    if word not in word_counts:\n",
    "        word_counts[word] = 1\n",
    "    else:\n",
    "        word_counts[word] += 1\n",
    "    \n",
    "\n",
    "    word_counts=sorted(word_counts.items(),key=lambda x:x[1],reverse=True)\n",
    "    word_counts[0:5]       "
   ]
  },
  {
   "cell_type": "code",
   "execution_count": null,
   "metadata": {},
   "outputs": [],
   "source": []
  },
  {
   "cell_type": "code",
   "execution_count": 30,
   "metadata": {},
   "outputs": [
    {
     "data": {
      "text/plain": [
       "[('and', 4), ('', 2), ('When', 2), ('I', 2), ('my', 2)]"
      ]
     },
     "execution_count": 30,
     "metadata": {},
     "output_type": "execute_result"
    }
   ],
   "source": [
    "from collections import Counter\n",
    "word_counts=Counter(words)\n",
    "word_counts.most_common(5)"
   ]
  },
  {
   "cell_type": "code",
   "execution_count": 31,
   "metadata": {},
   "outputs": [
    {
     "name": "stderr",
     "output_type": "stream",
     "text": [
      "C:\\ProgramData\\Anaconda3\\lib\\site-packages\\ipykernel_launcher.py:4: DeprecationWarning: \n",
      ".ix is deprecated. Please use\n",
      ".loc for label based indexing or\n",
      ".iloc for positional indexing\n",
      "\n",
      "See the documentation here:\n",
      "http://pandas.pydata.org/pandas-docs/stable/indexing.html#ix-indexer-is-deprecated\n",
      "  after removing the cwd from sys.path.\n"
     ]
    },
    {
     "data": {
      "text/plain": [
       "and     4\n",
       "        2\n",
       "When    2\n",
       "come    2\n",
       "my      2\n",
       "dtype: int64"
      ]
     },
     "execution_count": 31,
     "metadata": {},
     "output_type": "execute_result"
    }
   ],
   "source": [
    "from pandas import Series\n",
    "data=Series(words)\n",
    "c=data.value_counts()\n",
    "c.ix[0:5]"
   ]
  },
  {
   "cell_type": "code",
   "execution_count": null,
   "metadata": {},
   "outputs": [],
   "source": []
  }
 ],
 "metadata": {
  "kernelspec": {
   "display_name": "Python 3",
   "language": "python",
   "name": "python3"
  },
  "language_info": {
   "codemirror_mode": {
    "name": "ipython",
    "version": 3
   },
   "file_extension": ".py",
   "mimetype": "text/x-python",
   "name": "python",
   "nbconvert_exporter": "python",
   "pygments_lexer": "ipython3",
   "version": "3.6.4"
  }
 },
 "nbformat": 4,
 "nbformat_minor": 2
}
