{
 "cells": [
  {
   "cell_type": "markdown",
   "metadata": {},
   "source": [
    "# Python基础学习"
   ]
  },
  {
   "cell_type": "markdown",
   "metadata": {},
   "source": [
    "## jupyter各种快捷键"
   ]
  },
  {
   "cell_type": "markdown",
   "metadata": {},
   "source": [
    "nter : 转入编辑模式\n",
    "\n",
    "Shift-Enter : 运行本单元，选中下个单元\n",
    "\n",
    "Ctrl-Enter : 运行本单元\n",
    "\n",
    "Alt-Enter : 运行本单元，在其下插入新单元\n",
    "\n",
    "Y : 单元转入代码状态\n",
    "\n",
    "M :单元转入markdown状态\n",
    "\n",
    "R : 单元转入raw状态\n",
    "\n",
    "1 : 设定 1 级标题\n",
    "2 : 设定 2 级标题\n",
    "\n",
    "3 : 设定 3 级标题\n",
    "\n",
    "4 : 设定 4 级标题\n",
    "\n",
    "5 : 设定 5 级标题\n",
    "\n",
    "6 : 设定 6 级标题\n",
    "\n",
    "Up : 选中上方单元\n",
    "\n",
    "K : 选中上方单元\n",
    "\n",
    "Down : 选中下方单元\n",
    "\n",
    "J : 选中下方单元\n",
    "\n",
    "Shift-K : 扩大选中上方单元\n",
    "\n",
    "Shift-J : 扩大选中下方单元\n",
    "\n",
    "A : 在上方插入新单元\n",
    "\n",
    "B : 在下方插入新单元\n",
    "\n",
    "X : 剪切选中的单元\n",
    "\n",
    "C : 复制选中的单元\n",
    "\n",
    "Shift-V : 粘贴到上方单元\n",
    "\n",
    "V : 粘贴到下方单元\n",
    "\n",
    "Z : 恢复删除的最后一个单元\n",
    "\n",
    "D,D : 删除选中的单元\n",
    "\n",
    "Shift-M : 合并选中的单元\n",
    "\n",
    "Ctrl-S : 文件存盘\n",
    "\n",
    "S : 文件存盘\n",
    "\n",
    "L : 转换行号\n",
    "\n",
    "O : 转换输出\n",
    "\n",
    "Shift-O : 转换输出滚动\n",
    "\n",
    "Esc : 关闭页面\n",
    "\n",
    "Q : 关闭页面\n",
    "\n",
    "H : 显示快捷键帮助\n",
    "\n",
    "I,I : 中断Notebook内核\n",
    "\n",
    "0,0 : 重启Notebook内核\n",
    "\n",
    "Shift : 忽略\n",
    "\n",
    "Shift-Space : 向上滚动\n",
    "\n",
    "Space : 向下滚动\n",
    "\n",
    "编辑模式 ( Enter 键启动)\n",
    "\n",
    "Tab : 代码补全或缩进\n",
    "\n",
    "Shift-Tab : 提示\n",
    "\n",
    "Ctrl-A : 全选\n",
    "\n",
    "Ctrl-Z : 复原\n",
    "\n",
    "Ctrl-Shift-Z : 再做\n",
    "\n",
    "Ctrl-Y : 再做\n",
    "\n",
    "Ctrl-Home : 跳到单元开头\n",
    "\n",
    "Ctrl-Up : 跳到单元开头\n",
    "\n",
    "Ctrl-End : 跳到单元末尾\n",
    "\n",
    "Ctrl-Down : 跳到单元末尾\n",
    "\n",
    "Ctrl-Left : 跳到左边一个字首\n",
    "\n",
    "Ctrl-Right : 跳到右边一个字首\n",
    "\n",
    "Ctrl-Backspace : 删除前面一个字\n",
    "\n",
    "Ctrl-Delete : 删除后面一个字\n",
    "\n",
    "Esc : 进入命令模式\n",
    "\n",
    "Ctrl-M : 进入命令模式\n",
    "\n",
    "Shift-Enter : 运行本单元，选中下一单元\n",
    "\n",
    "Ctrl-Enter : 运行本单元\n",
    "\n",
    "Alt-Enter : 运行本单元，在下面插入一单元\n",
    "\n",
    "Ctrl-Shift-- : 分割单元\n",
    "\n",
    "Ctrl-Shift-Subtract : 分割单元\n",
    "\n",
    "Ctrl-S : 文件存盘\n",
    "\n",
    "Shift : 忽略\n",
    "\n",
    "Up : 光标上移或转入上一单元\n",
    "\n",
    "Down :光标下移或转入下一单元\n",
    "\n",
    "Ctrl-] : 缩进\n",
    "\n",
    "Ctrl-[ : 解除缩进\n"
   ]
  },
  {
   "cell_type": "markdown",
   "metadata": {},
   "source": [
    "## 开始学习"
   ]
  },
  {
   "cell_type": "markdown",
   "metadata": {},
   "source": [
    "Markdown单元格，接受html代码，可以添加图片、样式等\n",
    "\n",
    "<img src=\"www.baidu.com/s?wd=今日新鲜事&tn=SE_PclogoS_8whnvm25&sa=ire_dl_gh_logo&rsv_dl=igh_logo_pcs\" style=\"width:100px;height:100px;float:left\">"
   ]
  },
  {
   "cell_type": "markdown",
   "metadata": {},
   "source": [
    "Markdown单元格还支持LaTex语法，如：\n",
    "\n",
    "$$\\int_0^{+\\infty} x^2 dx$$"
   ]
  },
  {
   "cell_type": "markdown",
   "metadata": {},
   "source": [
    "$$\\int_0^{-\\infty}x^2 dx$$"
   ]
  },
  {
   "cell_type": "code",
   "execution_count": 5,
   "metadata": {},
   "outputs": [
    {
     "name": "stdout",
     "output_type": "stream",
     "text": [
      "0\n",
      "1\n",
      "2\n",
      "3\n",
      "4\n"
     ]
    }
   ],
   "source": [
    "for i in range(5):\n",
    "    print(i)"
   ]
  },
  {
   "cell_type": "code",
   "execution_count": 11,
   "metadata": {},
   "outputs": [],
   "source": [
    "%matplotlib inline"
   ]
  },
  {
   "cell_type": "code",
   "execution_count": 14,
   "metadata": {},
   "outputs": [
    {
     "data": {
      "text/plain": [
       "[<matplotlib.lines.Line2D at 0x8afa438>]"
      ]
     },
     "execution_count": 14,
     "metadata": {},
     "output_type": "execute_result"
    },
    {
     "data": {
      "image/png": "[encoded data removed]",
      "text/plain": [
       "<matplotlib.figure.Figure at 0x8a67cf8>"
      ]
     },
     "metadata": {},
     "output_type": "display_data"
    }
   ],
   "source": [
    "import matplotlib.pyplot as plt\n",
    "import numpy as np\n",
    "x=np.arange(20)\n",
    "y=x**2 #等同 y=x^2\n",
    "plt.plot(x,y)"
   ]
  },
  {
   "cell_type": "code",
   "execution_count": 10,
   "metadata": {},
   "outputs": [
    {
     "name": "stdout",
     "output_type": "stream",
     "text": [
      "['', 'When', 'I', 'an', 'down', 'and', 'oh', 'my', 'soul', 'so', 'weary', 'When', 'troubles', 'come', 'and', 'my', 'heart', 'burdened', 'be', 'Then', 'I', 'am', 'still', 'and', 'wait', 'here', 'in', 'the', 'silence', 'Until', 'you', 'come', 'and', 'sit', 'awhile', 'with', 'me', '']\n"
     ]
    }
   ],
   "source": [
    "import re\n",
    "s='''\n",
    "When I an down and,oh,my soul,so weary;\n",
    "When troubles come and my heart burdened be;\n",
    "Then I am still and wait here in the silence,\n",
    "Until you come and sit awhile with me.\n",
    "'''\n",
    "words=re.split(\"[^a-zA-Z]+\",s)\n",
    "print(words)"
   ]
  },
  {
   "cell_type": "code",
   "execution_count": 31,
   "metadata": {
    "scrolled": true
   },
   "outputs": [
    {
     "data": {
      "text/plain": [
       "[('and', 4), ('', 2), ('When', 2), ('I', 2), ('my', 2)]"
      ]
     },
     "execution_count": 31,
     "metadata": {},
     "output_type": "execute_result"
    }
   ],
   "source": [
    "word_counts = {}\n",
    "for word in words:\n",
    "     if word not in word_counts:\n",
    "        word_counts[word]=1\n",
    "     else:\n",
    "        word_counts[word] +=1\n",
    "\n",
    "#python靠缩进判断范围，因为以下代码不能缩进，否则会有问题     \n",
    "word_counts=sorted(word_counts.items(),key=lambda x:x[1],reverse=True)\n",
    "word_counts[0:5]    "
   ]
  },
  {
   "cell_type": "code",
   "execution_count": 30,
   "metadata": {},
   "outputs": [
    {
     "data": {
      "text/plain": [
       "[('and', 4), ('', 2), ('When', 2), ('I', 2), ('my', 2)]"
      ]
     },
     "execution_count": 30,
     "metadata": {},
     "output_type": "execute_result"
    }
   ],
   "source": [
    "from collections import Counter\n",
    "word_counts=Counter(words)\n",
    "word_counts.most_common(5)"
   ]
  },
  {
   "cell_type": "code",
   "execution_count": 31,
   "metadata": {},
   "outputs": [
    {
     "name": "stderr",
     "output_type": "stream",
     "text": [
      "C:\\ProgramData\\Anaconda3\\lib\\site-packages\\ipykernel_launcher.py:4: DeprecationWarning: \n",
      ".ix is deprecated. Please use\n",
      ".loc for label based indexing or\n",
      ".iloc for positional indexing\n",
      "\n",
      "See the documentation here:\n",
      "http://pandas.pydata.org/pandas-docs/stable/indexing.html#ix-indexer-is-deprecated\n",
      "  after removing the cwd from sys.path.\n"
     ]
    },
    {
     "data": {
      "text/plain": [
       "and     4\n",
       "        2\n",
       "When    2\n",
       "come    2\n",
       "my      2\n",
       "dtype: int64"
      ]
     },
     "execution_count": 31,
     "metadata": {},
     "output_type": "execute_result"
    }
   ],
   "source": [
    "from pandas import Series\n",
    "data=Series(words)\n",
    "c=data.value_counts()\n",
    "c.ix[0:5]"
   ]
  },
  {
   "cell_type": "markdown",
   "metadata": {},
   "source": [
    "## Python注释"
   ]
  },
  {
   "cell_type": "code",
   "execution_count": null,
   "metadata": {},
   "outputs": [],
   "source": [
    "#------->1.用一对\"\"\"括起来要注释的代码：\n",
    "\"\"\"\n",
    "print(\"hello world\")\n",
    "\"\"\"\n",
    "\n",
    "#------->2.用一对'''括起来要注释的代码：\n",
    "'''\n",
    "print(\"hello word\",\"jumps over\",\"the lazy dog\")\n",
    "'''\n",
    "\n",
    "#------->3.选中要注释的代码，按下ctrl+/注释：\n",
    "# number = int(input(\"Enter a number:\"))\n",
    "# if number < 100:\n",
    "#     print(\"<100\")\n",
    "# else:\n",
    "#     print(\">100\")"
   ]
  },
  {
   "cell_type": "markdown",
   "metadata": {},
   "source": [
    "## Python基础"
   ]
  },
  {
   "cell_type": "code",
   "execution_count": 6,
   "metadata": {},
   "outputs": [
    {
     "name": "stdout",
     "output_type": "stream",
     "text": [
      "300\n",
      "100+200= 300\n"
     ]
    }
   ],
   "source": [
    "#打印整数，或者计算结果：\n",
    "print(100+200)\n",
    "print('100+200=',100+200)"
   ]
  },
  {
   "cell_type": "markdown",
   "metadata": {},
   "source": [
    "python大小写敏感\n",
    "\n",
    "python能够处理的数据类型：\n",
    "\n",
    "1.整数（包括负整数）\n",
    "\n",
    "可以用十六进制表示整数，如：0xff00\n",
    "\n",
    "2.浮点数\n",
    "\n",
    "10用e表示：1.23e5=123000,1.2e-5=0.000012\n",
    "\n",
    "3.字符串\n",
    "\n",
    "以单引号'或者双引号\"括起来，如\"a\",'bbb'\n",
    "\n",
    "4.布尔值：True,False\n",
    "\n",
    "运算使用：and，or，not\n",
    "\n",
    "5.空值：None，不等于0,0有意义，None是一个特殊空值\n",
    "\n",
    "6.变量\n",
    "\n",
    "变量名：必须是大小写英文、数字、和_的组合，且不能用数字开头\n",
    "\n",
    "7.常量：通常用全部大写的变量名表示\n"
   ]
  },
  {
   "cell_type": "markdown",
   "metadata": {},
   "source": [
    "### 转义字符 \\"
   ]
  },
  {
   "cell_type": "code",
   "execution_count": 11,
   "metadata": {},
   "outputs": [
    {
     "name": "stdout",
     "output_type": "stream",
     "text": [
      "\\\t\\\n",
      "\\\\\\t\\\\\n",
      "line\n",
      "line2\n",
      "line3\n",
      "hello,\\n\n",
      "world\n"
     ]
    }
   ],
   "source": [
    "#字符串中很多字符需要转义，需要加很多\\，可以使用r''表示''内部的字符串默认不转义\n",
    "print('\\\\\\t\\\\')\n",
    "print(r'\\\\\\t\\\\')\n",
    "\n",
    "#字符串内部很多换行，用\\n写在一行里不好阅读，可以使用'''...'''的格式表示多行内容\n",
    "print('''line\n",
    "line2\n",
    "line3''')\n",
    "\n",
    "print(r'''hello,\\n\n",
    "world''')"
   ]
  },
  {
   "cell_type": "markdown",
   "metadata": {},
   "source": [
    "### 变量"
   ]
  },
  {
   "cell_type": "code",
   "execution_count": 9,
   "metadata": {},
   "outputs": [
    {
     "name": "stdout",
     "output_type": "stream",
     "text": [
      "123\n",
      "abc\n"
     ]
    }
   ],
   "source": [
    "a=123 #a是整数\n",
    "print(a)\n",
    "a='abc' #a变为字符串\n",
    "print(a)\n",
    "#这种变量本身类型不固定的语言成为动态语言，相对应的是静态语言\n",
    "#静态语言：定义变量时必须指定变量类型，赋值不匹配会报错，java是静态语言"
   ]
  },
  {
   "cell_type": "markdown",
   "metadata": {},
   "source": [
    "### 两种除法"
   ]
  },
  {
   "cell_type": "code",
   "execution_count": 15,
   "metadata": {},
   "outputs": [
    {
     "name": "stdout",
     "output_type": "stream",
     "text": [
      "3.3333333333333335\n",
      "3\n",
      "1\n"
     ]
    }
   ],
   "source": [
    "#1.除法计算：/\n",
    "print(10/3)\n",
    "#结果：3.33333(IDE运算结果与pycharm运算结果不一致)\n",
    "\n",
    "#2.地板除：//\n",
    "print(10//3)\n",
    "#结果：3\n",
    "\n",
    "#整数的地板除永远是整数\n",
    "\n",
    "print(10%3)"
   ]
  },
  {
   "cell_type": "code",
   "execution_count": 17,
   "metadata": {},
   "outputs": [
    {
     "name": "stdout",
     "output_type": "stream",
     "text": [
      "123\n",
      "456.252\n",
      "hello,world\n",
      "hello,'adam'\n",
      "hello,\"bart\"\n",
      "hello,\n",
      "lisa!\n"
     ]
    }
   ],
   "source": [
    "n=123\n",
    "f=456.252\n",
    "s1=\"hello,world\"\n",
    "s2=\"hello,\\'adam\\'\"\n",
    "s3=r'hello,\"bart\"'\n",
    "s4=r'''hello,\n",
    "lisa!'''\n",
    "print(n)\n",
    "print(f)\n",
    "print(s1)\n",
    "print(s2)\n",
    "print(s3)\n",
    "print(s4)"
   ]
  },
  {
   "cell_type": "markdown",
   "metadata": {},
   "source": [
    "### 输入"
   ]
  },
  {
   "cell_type": "code",
   "execution_count": 18,
   "metadata": {},
   "outputs": [
    {
     "name": "stdout",
     "output_type": "stream",
     "text": [
      "输入名字:\n",
      "jisi\n",
      "hello jisi\n"
     ]
    }
   ],
   "source": [
    "#在pycharm中，输入数字以外的字符，无法运行下去\n",
    "name=input(\"输入名字:\\n\")\n",
    "print('hello', name)"
   ]
  },
  {
   "cell_type": "markdown",
   "metadata": {},
   "source": [
    "### 字符编码"
   ]
  },
  {
   "cell_type": "markdown",
   "metadata": {},
   "source": [
    "1.ASCII编码：一个字节，127个字符（大小写英文字母、数字、一些符号）\n",
    "\n",
    "2.GB2312编码：两个字节，中文编码\n",
    "\n",
    "3.Unicode：通常2个字节，把所有语言统一到一套编码中\n",
    "\n",
    "4.UTF-8编码：可变长编码\n",
    "\n",
    "UTF-8把一个Unicode字符根据不同的数字大小编码成1-6个字节\n",
    "\n",
    "英文字母：1个字节\n",
    "\n",
    "汉子：3个字节\n",
    "\n",
    "生僻字：4-6个字节\n",
    "\n",
    "计算机系统通用的字符编码工作方式：\n",
    "\n",
    "在计算机内存中，统一使用Unicode编码，当需要保存到硬盘或者需要传输的时候，转成UTF-8编码\n",
    "\n",
    "用记事本编辑的时候，从文件读取UTF-8字符被转为Unicode字符到内存里，编辑完成后，保存的时候再把Unicode转换为UTF-8保存到文件\n",
    "\n",
    "ord():获取字符的整数表示\n",
    "\n",
    "chr():把编码转换为对应的字符"
   ]
  },
  {
   "cell_type": "code",
   "execution_count": 21,
   "metadata": {},
   "outputs": [
    {
     "name": "stdout",
     "output_type": "stream",
     "text": [
      "65\n",
      "20013\n",
      "B\n",
      "文\n",
      "中文\n"
     ]
    }
   ],
   "source": [
    "print(ord('A'))\n",
    "print(ord('中'))\n",
    "print(chr(66))\n",
    "print(chr(25991))\n",
    "print('\\u4e2d\\u6587')"
   ]
  },
  {
   "cell_type": "markdown",
   "metadata": {},
   "source": [
    "由于Python的字符串类型是str，在内存中以Unicode表示，一个字符对应若干个字节。\n",
    "\n",
    "如果要在网络上传输，或者保存到磁盘上，就需要把str变为以字节为单位的bytes。\n",
    "\n",
    "python对bytes类型的数据用带b前缀的单引号或双引号表示"
   ]
  },
  {
   "cell_type": "code",
   "execution_count": 23,
   "metadata": {},
   "outputs": [],
   "source": [
    "x=b'ABC'"
   ]
  },
  {
   "cell_type": "markdown",
   "metadata": {},
   "source": [
    "‘ABC’与b‘ABC’\n",
    "\n",
    "前者是str，后者虽然显示与前者相同，但bytes的每个字符都只占一个字节\n",
    "\n",
    "以Unicode表示的str通过encode()方法可以编码为指定的bytes"
   ]
  },
  {
   "cell_type": "code",
   "execution_count": 24,
   "metadata": {},
   "outputs": [
    {
     "data": {
      "text/plain": [
       "b'ABC'"
      ]
     },
     "execution_count": 24,
     "metadata": {},
     "output_type": "execute_result"
    }
   ],
   "source": [
    "'ABC'.encode(\"ascii\")"
   ]
  },
  {
   "cell_type": "code",
   "execution_count": 25,
   "metadata": {},
   "outputs": [
    {
     "data": {
      "text/plain": [
       "b'\\xe4\\xb8\\xad\\xe6\\x96\\x87'"
      ]
     },
     "execution_count": 25,
     "metadata": {},
     "output_type": "execute_result"
    }
   ],
   "source": [
    "'中文'.encode(\"utf-8\")"
   ]
  },
  {
   "cell_type": "code",
   "execution_count": 26,
   "metadata": {},
   "outputs": [
    {
     "ename": "UnicodeEncodeError",
     "evalue": "'ascii' codec can't encode characters in position 0-1: ordinal not in range(128)",
     "output_type": "error",
     "traceback": [
      "\u001b[1;31m---------------------------------------------------------------------------\u001b[0m",
      "\u001b[1;31mUnicodeEncodeError\u001b[0m                        Traceback (most recent call last)",
      "\u001b[1;32m<ipython-input-26-025d6e338f07>\u001b[0m in \u001b[0;36m<module>\u001b[1;34m()\u001b[0m\n\u001b[1;32m----> 1\u001b[1;33m \u001b[1;34m'中文'\u001b[0m\u001b[1;33m.\u001b[0m\u001b[0mencode\u001b[0m\u001b[1;33m(\u001b[0m\u001b[1;34m\"ascii\"\u001b[0m\u001b[1;33m)\u001b[0m\u001b[1;33m\u001b[0m\u001b[0m\n\u001b[0m",
      "\u001b[1;31mUnicodeEncodeError\u001b[0m: 'ascii' codec can't encode characters in position 0-1: ordinal not in range(128)"
     ]
    }
   ],
   "source": [
    "'中文'.encode(\"ascii\")"
   ]
  },
  {
   "cell_type": "markdown",
   "metadata": {},
   "source": [
    "纯英文的str可以用ASCII编码为bytes，内容是一样的，含有中文的str可以用UTF-8编码为bytes。\n",
    "\n",
    "含有中文的str无法用ASCII编码,因为中文编码的范围超过了ASCII的编码范围，Python会报错\n",
    "\n",
    "在bytes中，无法显示的ASCII字符的字节，用\\x##显示\n",
    "\n",
    "反过来，如果我们从网络或磁盘上读取了字节流，那么读到的数据就是bytes，要把bytes变为str，就需要用decode()方法"
   ]
  },
  {
   "cell_type": "code",
   "execution_count": 27,
   "metadata": {},
   "outputs": [
    {
     "data": {
      "text/plain": [
       "'ABC'"
      ]
     },
     "execution_count": 27,
     "metadata": {},
     "output_type": "execute_result"
    }
   ],
   "source": [
    "b'ABC'.decode(\"ascii\")"
   ]
  },
  {
   "cell_type": "code",
   "execution_count": 28,
   "metadata": {},
   "outputs": [
    {
     "data": {
      "text/plain": [
       "'中文'"
      ]
     },
     "execution_count": 28,
     "metadata": {},
     "output_type": "execute_result"
    }
   ],
   "source": [
    "b'\\xe4\\xb8\\xad\\xe6\\x96\\x87'.decode(\"utf-8\")"
   ]
  },
  {
   "cell_type": "markdown",
   "metadata": {},
   "source": [
    "如果bytes中包含无法解码的字节，decode()方法会报错"
   ]
  },
  {
   "cell_type": "code",
   "execution_count": 29,
   "metadata": {},
   "outputs": [
    {
     "ename": "UnicodeDecodeError",
     "evalue": "'utf-8' codec can't decode byte 0xb8 in position 1: invalid start byte",
     "output_type": "error",
     "traceback": [
      "\u001b[1;31m---------------------------------------------------------------------------\u001b[0m",
      "\u001b[1;31mUnicodeDecodeError\u001b[0m                        Traceback (most recent call last)",
      "\u001b[1;32m<ipython-input-29-986633706cda>\u001b[0m in \u001b[0;36m<module>\u001b[1;34m()\u001b[0m\n\u001b[1;32m----> 1\u001b[1;33m \u001b[1;34mb'\\x34\\xb8\\xad\\xff'\u001b[0m\u001b[1;33m.\u001b[0m\u001b[0mdecode\u001b[0m\u001b[1;33m(\u001b[0m\u001b[1;34m'utf-8'\u001b[0m\u001b[1;33m)\u001b[0m\u001b[1;33m\u001b[0m\u001b[0m\n\u001b[0m",
      "\u001b[1;31mUnicodeDecodeError\u001b[0m: 'utf-8' codec can't decode byte 0xb8 in position 1: invalid start byte"
     ]
    }
   ],
   "source": [
    "b'\\x34\\xb8\\xad\\xff'.decode('utf-8')"
   ]
  },
  {
   "cell_type": "markdown",
   "metadata": {},
   "source": [
    "如果bytes中只有一小部分字节无效，可以传入errors='ignore'忽略错误的字节"
   ]
  },
  {
   "cell_type": "code",
   "execution_count": 32,
   "metadata": {},
   "outputs": [
    {
     "data": {
      "text/plain": [
       "'中'"
      ]
     },
     "execution_count": 32,
     "metadata": {},
     "output_type": "execute_result"
    }
   ],
   "source": [
    "b'\\xe4\\xb8\\xad\\xe4'.decode('utf-8',errors='ignore')"
   ]
  },
  {
   "cell_type": "markdown",
   "metadata": {},
   "source": [
    "计算长度"
   ]
  },
  {
   "cell_type": "code",
   "execution_count": 40,
   "metadata": {},
   "outputs": [
    {
     "data": {
      "text/plain": [
       "3"
      ]
     },
     "execution_count": 40,
     "metadata": {},
     "output_type": "execute_result"
    }
   ],
   "source": [
    "len('ABC')"
   ]
  },
  {
   "cell_type": "code",
   "execution_count": 37,
   "metadata": {},
   "outputs": [
    {
     "data": {
      "text/plain": [
       "3"
      ]
     },
     "execution_count": 37,
     "metadata": {},
     "output_type": "execute_result"
    }
   ],
   "source": [
    "len(b'ABC')"
   ]
  },
  {
   "cell_type": "code",
   "execution_count": 34,
   "metadata": {},
   "outputs": [
    {
     "data": {
      "text/plain": [
       "6"
      ]
     },
     "execution_count": 34,
     "metadata": {},
     "output_type": "execute_result"
    }
   ],
   "source": [
    "len(b'\\xe4\\xb8\\xad\\xe6\\x96\\x87')"
   ]
  },
  {
   "cell_type": "code",
   "execution_count": 41,
   "metadata": {},
   "outputs": [
    {
     "data": {
      "text/plain": [
       "6"
      ]
     },
     "execution_count": 41,
     "metadata": {},
     "output_type": "execute_result"
    }
   ],
   "source": [
    "len('中文'.encode('utf-8'))"
   ]
  },
  {
   "cell_type": "code",
   "execution_count": 39,
   "metadata": {},
   "outputs": [
    {
     "data": {
      "text/plain": [
       "2"
      ]
     },
     "execution_count": 39,
     "metadata": {},
     "output_type": "execute_result"
    }
   ],
   "source": [
    "len('中文')"
   ]
  },
  {
   "cell_type": "code",
   "execution_count": 42,
   "metadata": {},
   "outputs": [
    {
     "ename": "SyntaxError",
     "evalue": "invalid character in identifier (<ipython-input-42-c4a55470ae77>, line 1)",
     "output_type": "error",
     "traceback": [
      "\u001b[1;36m  File \u001b[1;32m\"<ipython-input-42-c4a55470ae77>\"\u001b[1;36m, line \u001b[1;32m1\u001b[0m\n\u001b[1;33m    源代码中包含中文时，为了让它按utf-8编码读取，在文件头写上\u001b[0m\n\u001b[1;37m                     ^\u001b[0m\n\u001b[1;31mSyntaxError\u001b[0m\u001b[1;31m:\u001b[0m invalid character in identifier\n"
     ]
    }
   ],
   "source": [
    "源代码中包含中文时，为了让它按utf-8编码读取，在文件头写上\n",
    "\n",
    "#!/usr/bin/env python3\n",
    "# -*- coding: utf-8 -*-\n",
    "\n",
    "第一行注释为了告诉Linux/OS X系统，这是一个python可执行程序，windows会忽略这个注释\n",
    "\n",
    "第二行注释为了告诉python解析器，按照UTF-8编码读取源代码\n",
    "\n",
    "申明了UTF-8编码不意味.py文件就是UTF-8编码，必须并且要确保文件编辑器正在使用\n",
    "UTF-8 without BOM编码"
   ]
  },
  {
   "cell_type": "markdown",
   "metadata": {},
   "source": [
    "### 格式化\n",
    "\n",
    "使用 % 实现"
   ]
  },
  {
   "cell_type": "code",
   "execution_count": 43,
   "metadata": {},
   "outputs": [
    {
     "data": {
      "text/plain": [
       "'hello, world'"
      ]
     },
     "execution_count": 43,
     "metadata": {},
     "output_type": "execute_result"
    }
   ],
   "source": [
    "'hello, %s' % 'world'"
   ]
  },
  {
   "cell_type": "code",
   "execution_count": 44,
   "metadata": {},
   "outputs": [
    {
     "data": {
      "text/plain": [
       "'hello, Michael, you have $1000000.'"
      ]
     },
     "execution_count": 44,
     "metadata": {},
     "output_type": "execute_result"
    }
   ],
   "source": [
    "'hello, %s, you have $%d.' % ('Michael',1000000)"
   ]
  },
  {
   "cell_type": "markdown",
   "metadata": {},
   "source": [
    "%d：整数\n",
    "\n",
    "%f：浮点数\n",
    "\n",
    "%s：字符串\n",
    "\n",
    "%x：十六进制整数"
   ]
  },
  {
   "cell_type": "markdown",
   "metadata": {},
   "source": [
    "格式化整数和浮点数可以指定是否补0和整数与小数的位数"
   ]
  },
  {
   "cell_type": "code",
   "execution_count": 46,
   "metadata": {},
   "outputs": [
    {
     "data": {
      "text/plain": [
       "' 3-01'"
      ]
     },
     "execution_count": 46,
     "metadata": {},
     "output_type": "execute_result"
    }
   ],
   "source": [
    "'%2d-%02d' % (3,1)"
   ]
  },
  {
   "cell_type": "code",
   "execution_count": 47,
   "metadata": {},
   "outputs": [
    {
     "data": {
      "text/plain": [
       "'3.14'"
      ]
     },
     "execution_count": 47,
     "metadata": {},
     "output_type": "execute_result"
    }
   ],
   "source": [
    "'%.2f' % 3.1415926"
   ]
  },
  {
   "cell_type": "code",
   "execution_count": 48,
   "metadata": {},
   "outputs": [
    {
     "data": {
      "text/plain": [
       "'growth rate: 7%'"
      ]
     },
     "execution_count": 48,
     "metadata": {},
     "output_type": "execute_result"
    }
   ],
   "source": [
    "# %% 表示一个 %\n",
    "'growth rate: %d%%' % 7"
   ]
  },
  {
   "cell_type": "markdown",
   "metadata": {},
   "source": [
    "使用字符串的format()方法，它会用传入的参数依次替换字符串内的占位符{0},{1}...."
   ]
  },
  {
   "cell_type": "code",
   "execution_count": 49,
   "metadata": {},
   "outputs": [
    {
     "data": {
      "text/plain": [
       "'hello,小明,成绩提升了17.1%'"
      ]
     },
     "execution_count": 49,
     "metadata": {},
     "output_type": "execute_result"
    }
   ],
   "source": [
    "'hello,{0},成绩提升了{1:.1f}%'.format(\"小明\",17.125)"
   ]
  },
  {
   "cell_type": "markdown",
   "metadata": {},
   "source": [
    "练习：\n",
    "\n",
    "小明成绩从去年的72分提升到今年的85分，计算小明成绩提升的百分点，并用字符串格式化显示出“xx.x%”，只保留小数点后一位"
   ]
  },
  {
   "cell_type": "code",
   "execution_count": 58,
   "metadata": {},
   "outputs": [
    {
     "name": "stdout",
     "output_type": "stream",
     "text": [
      "0.18055555555555555\n"
     ]
    },
    {
     "data": {
      "text/plain": [
       "'提升了18.1%'"
      ]
     },
     "execution_count": 58,
     "metadata": {},
     "output_type": "execute_result"
    }
   ],
   "source": [
    "s1=72\n",
    "s2=85\n",
    "r=(s2-s1)/s1\n",
    "print(r)\n",
    "\"提升了{0:.1f}%\".format(r*100)"
   ]
  },
  {
   "cell_type": "markdown",
   "metadata": {},
   "source": [
    "### list\n",
    "\n",
    "获取最后一个元素"
   ]
  },
  {
   "cell_type": "code",
   "execution_count": 68,
   "metadata": {},
   "outputs": [
    {
     "name": "stdout",
     "output_type": "stream",
     "text": [
      "Tracy\n",
      "Tracy\n",
      "Bob\n",
      "Michael\n"
     ]
    }
   ],
   "source": [
    "classmates=[\"Michael\",\"Bob\",\"Tracy\"]\n",
    "last1=classmates[len(classmates)-1]\n",
    "last2=classmates[-1]\n",
    "print(last1)\n",
    "print(last2)\n",
    "print(classmates[-2])\n",
    "print(classmates[-3])"
   ]
  },
  {
   "cell_type": "markdown",
   "metadata": {},
   "source": [
    "追加元素到末尾"
   ]
  },
  {
   "cell_type": "code",
   "execution_count": 69,
   "metadata": {},
   "outputs": [
    {
     "data": {
      "text/plain": [
       "['Michael', 'Bob', 'Tracy', 'Adam']"
      ]
     },
     "execution_count": 69,
     "metadata": {},
     "output_type": "execute_result"
    }
   ],
   "source": [
    "classmates.append(\"Adam\")\n",
    "classmates"
   ]
  },
  {
   "cell_type": "markdown",
   "metadata": {},
   "source": [
    "把元素插入到指定的位置"
   ]
  },
  {
   "cell_type": "code",
   "execution_count": 70,
   "metadata": {},
   "outputs": [
    {
     "data": {
      "text/plain": [
       "['Michael', 'Jack', 'Bob', 'Tracy', 'Adam']"
      ]
     },
     "execution_count": 70,
     "metadata": {},
     "output_type": "execute_result"
    }
   ],
   "source": [
    "classmates.insert(1,\"Jack\")\n",
    "classmates"
   ]
  },
  {
   "cell_type": "markdown",
   "metadata": {},
   "source": [
    "删除list末尾的元素"
   ]
  },
  {
   "cell_type": "code",
   "execution_count": 71,
   "metadata": {},
   "outputs": [
    {
     "data": {
      "text/plain": [
       "'Adam'"
      ]
     },
     "execution_count": 71,
     "metadata": {},
     "output_type": "execute_result"
    }
   ],
   "source": [
    "classmates.pop()"
   ]
  },
  {
   "cell_type": "code",
   "execution_count": 72,
   "metadata": {},
   "outputs": [
    {
     "data": {
      "text/plain": [
       "['Michael', 'Jack', 'Bob', 'Tracy']"
      ]
     },
     "execution_count": 72,
     "metadata": {},
     "output_type": "execute_result"
    }
   ],
   "source": [
    "classmates"
   ]
  },
  {
   "cell_type": "markdown",
   "metadata": {},
   "source": [
    "删除指定位置元素"
   ]
  },
  {
   "cell_type": "code",
   "execution_count": 73,
   "metadata": {},
   "outputs": [
    {
     "data": {
      "text/plain": [
       "'Jack'"
      ]
     },
     "execution_count": 73,
     "metadata": {},
     "output_type": "execute_result"
    }
   ],
   "source": [
    "classmates.pop(1)"
   ]
  },
  {
   "cell_type": "code",
   "execution_count": 74,
   "metadata": {},
   "outputs": [
    {
     "data": {
      "text/plain": [
       "['Michael', 'Bob', 'Tracy']"
      ]
     },
     "execution_count": 74,
     "metadata": {},
     "output_type": "execute_result"
    }
   ],
   "source": [
    "classmates"
   ]
  },
  {
   "cell_type": "markdown",
   "metadata": {},
   "source": [
    "替换某个元素"
   ]
  },
  {
   "cell_type": "code",
   "execution_count": 75,
   "metadata": {},
   "outputs": [],
   "source": [
    "classmates[1]=\"Sarah\""
   ]
  },
  {
   "cell_type": "code",
   "execution_count": 76,
   "metadata": {},
   "outputs": [
    {
     "data": {
      "text/plain": [
       "['Michael', 'Sarah', 'Tracy']"
      ]
     },
     "execution_count": 76,
     "metadata": {},
     "output_type": "execute_result"
    }
   ],
   "source": [
    "classmates"
   ]
  },
  {
   "cell_type": "markdown",
   "metadata": {},
   "source": [
    "list元素的数据类型可以不同，也可以是另一个list"
   ]
  },
  {
   "cell_type": "code",
   "execution_count": 79,
   "metadata": {},
   "outputs": [
    {
     "data": {
      "text/plain": [
       "5"
      ]
     },
     "execution_count": 79,
     "metadata": {},
     "output_type": "execute_result"
    }
   ],
   "source": [
    "L=[\"Apple\",123,12.5,True,['asp','php']]\n",
    "len(L)"
   ]
  },
  {
   "cell_type": "markdown",
   "metadata": {},
   "source": [
    "### tuple 元组\n",
    "\n",
    "tuple一旦初始化就不能修改"
   ]
  },
  {
   "cell_type": "code",
   "execution_count": 80,
   "metadata": {},
   "outputs": [],
   "source": [
    "classmates=(\"Michael\",\"Bob\",\"Tracy\")"
   ]
  },
  {
   "cell_type": "code",
   "execution_count": 81,
   "metadata": {},
   "outputs": [
    {
     "data": {
      "text/plain": [
       "()"
      ]
     },
     "execution_count": 81,
     "metadata": {},
     "output_type": "execute_result"
    }
   ],
   "source": [
    "# 空tuple\n",
    "\n",
    "t=()\n",
    "t"
   ]
  },
  {
   "cell_type": "code",
   "execution_count": 82,
   "metadata": {},
   "outputs": [
    {
     "data": {
      "text/plain": [
       "1"
      ]
     },
     "execution_count": 82,
     "metadata": {},
     "output_type": "execute_result"
    }
   ],
   "source": [
    "t=(1)\n",
    "t"
   ]
  },
  {
   "cell_type": "markdown",
   "metadata": {},
   "source": [
    "如此定义的不是tuple，是 1 这个数，因为（）可以表示tuple，又可以表示数学公式中的小括号，这种情况下，按小括号进行计算\n",
    "\n",
    "定义只有一个元素的tuple时，必须加一个逗号"
   ]
  },
  {
   "cell_type": "code",
   "execution_count": 83,
   "metadata": {},
   "outputs": [
    {
     "data": {
      "text/plain": [
       "(1,)"
      ]
     },
     "execution_count": 83,
     "metadata": {},
     "output_type": "execute_result"
    }
   ],
   "source": [
    "t=(1,)\n",
    "t"
   ]
  },
  {
   "cell_type": "markdown",
   "metadata": {},
   "source": [
    "“可变的”tuple"
   ]
  },
  {
   "cell_type": "code",
   "execution_count": 85,
   "metadata": {},
   "outputs": [
    {
     "data": {
      "text/plain": [
       "('a', 'b', ['X', 'Y'])"
      ]
     },
     "execution_count": 85,
     "metadata": {},
     "output_type": "execute_result"
    }
   ],
   "source": [
    "t=(\"a\",\"b\",['A','B'])\n",
    "t[2][0]='X'\n",
    "t[2][1]='Y'\n",
    "t"
   ]
  },
  {
   "cell_type": "markdown",
   "metadata": {},
   "source": [
    "练习\n",
    "\n",
    "打印指定元素"
   ]
  },
  {
   "cell_type": "code",
   "execution_count": 2,
   "metadata": {},
   "outputs": [],
   "source": [
    "L=[\n",
    "    ['Apple','Google','Microsoft'],\n",
    "    ['Java','Python','Ruby','PHP'],\n",
    "    ['Adam','Bart','Lisa']\n",
    "]\n"
   ]
  },
  {
   "cell_type": "code",
   "execution_count": 3,
   "metadata": {},
   "outputs": [
    {
     "data": {
      "text/plain": [
       "'Apple'"
      ]
     },
     "execution_count": 3,
     "metadata": {},
     "output_type": "execute_result"
    }
   ],
   "source": [
    "#打印Apple\n",
    "L[0][0]"
   ]
  },
  {
   "cell_type": "code",
   "execution_count": 4,
   "metadata": {},
   "outputs": [
    {
     "data": {
      "text/plain": [
       "'Python'"
      ]
     },
     "execution_count": 4,
     "metadata": {},
     "output_type": "execute_result"
    }
   ],
   "source": [
    "#打印Python\n",
    "L[1][1]"
   ]
  },
  {
   "cell_type": "code",
   "execution_count": 5,
   "metadata": {},
   "outputs": [
    {
     "data": {
      "text/plain": [
       "'Lisa'"
      ]
     },
     "execution_count": 5,
     "metadata": {},
     "output_type": "execute_result"
    }
   ],
   "source": [
    "#打印Lisa\n",
    "L[2][2]"
   ]
  },
  {
   "cell_type": "markdown",
   "metadata": {},
   "source": [
    "### 循环\n",
    "\n",
    "range(101)生产0-100的整数序列"
   ]
  },
  {
   "cell_type": "code",
   "execution_count": 6,
   "metadata": {},
   "outputs": [
    {
     "name": "stdout",
     "output_type": "stream",
     "text": [
      "5050\n"
     ]
    }
   ],
   "source": [
    "sum=0\n",
    "for x in range(101):\n",
    "    sum=sum+x\n",
    "print(sum)"
   ]
  },
  {
   "cell_type": "markdown",
   "metadata": {},
   "source": [
    "### break、continue"
   ]
  },
  {
   "cell_type": "code",
   "execution_count": 7,
   "metadata": {},
   "outputs": [
    {
     "name": "stdout",
     "output_type": "stream",
     "text": [
      "1\n",
      "2\n",
      "3\n",
      "4\n",
      "5\n",
      "6\n",
      "7\n",
      "8\n",
      "9\n",
      "10\n",
      "END\n"
     ]
    }
   ],
   "source": [
    "n=1\n",
    "while n <= 20:\n",
    "    if n>10:\n",
    "        break      \n",
    "    print(n)\n",
    "    n=n+1\n",
    "print('END')"
   ]
  },
  {
   "cell_type": "code",
   "execution_count": 9,
   "metadata": {},
   "outputs": [
    {
     "name": "stdout",
     "output_type": "stream",
     "text": [
      "1\n",
      "3\n",
      "5\n",
      "7\n",
      "9\n"
     ]
    }
   ],
   "source": [
    "n=0\n",
    "while n<10:\n",
    "    n=n+1\n",
    "    if n%2==0:\n",
    "        continue\n",
    "    print(n)"
   ]
  },
  {
   "cell_type": "code",
   "execution_count": null,
   "metadata": {},
   "outputs": [],
   "source": []
  },
  {
   "cell_type": "code",
   "execution_count": null,
   "metadata": {},
   "outputs": [],
   "source": []
  }
 ],
 "metadata": {
  "kernelspec": {
   "display_name": "Python 3",
   "language": "python",
   "name": "python3"
  },
  "language_info": {
   "codemirror_mode": {
    "name": "ipython",
    "version": 3
   },
   "file_extension": ".py",
   "mimetype": "text/x-python",
   "name": "python",
   "nbconvert_exporter": "python",
   "pygments_lexer": "ipython3",
   "version": "3.6.4"
  }
 },
 "nbformat": 4,
 "nbformat_minor": 2
}
